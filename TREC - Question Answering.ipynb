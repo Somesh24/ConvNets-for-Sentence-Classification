{
 "cells": [
  {
   "cell_type": "code",
   "execution_count": 120,
   "metadata": {},
   "outputs": [],
   "source": [
    "import os\n",
    "import random\n",
    "import numpy as np\n",
    "\n",
    "from collections import namedtuple\n",
    "\n",
    "from sklearn.preprocessing import LabelEncoder\n",
    "\n",
    "from keras.preprocessing.text import Tokenizer\n",
    "from keras.preprocessing.sequence import pad_sequences\n",
    "from keras.utils import to_categorical"
   ]
  },
  {
   "cell_type": "markdown",
   "metadata": {
    "collapsed": true
   },
   "source": [
    "# TREC - Question Answering (multi-class)"
   ]
  },
  {
   "cell_type": "code",
   "execution_count": 121,
   "metadata": {},
   "outputs": [],
   "source": [
    "# TREC - Question Answering\n",
    "# http://cogcomp.cs.illinois.edu/Data/QA/QC/\n",
    "\n",
    "TREC_Question = namedtuple(\"TREC_Question\", \"label question\")\n",
    "\n",
    "trec_train = set()\n",
    "trec_test = set()\n",
    "\n",
    "for filename in os.listdir(\"TREC/\"):\n",
    "    with open(\"TREC/\"+filename,'r', encoding='latin_1') as f_input:\n",
    "        for line in f_input:\n",
    "            label, question = line.split(' ', 1)\n",
    "            label = label.split(':')[0]\n",
    "            question = TREC_Question(label, question.strip())\n",
    "            if filename=='TREC_10.label':\n",
    "                trec_test.add(question)\n",
    "            else:\n",
    "                trec_train.add(question)"
   ]
  },
  {
   "cell_type": "code",
   "execution_count": 122,
   "metadata": {},
   "outputs": [
    {
     "name": "stdout",
     "output_type": "stream",
     "text": [
      "Train Samples: 5381\n",
      "Test Samples : 500\n",
      "Labels       : {'NUM', 'DESC', 'HUM', 'ENTY', 'LOC', 'ABBR'}\n"
     ]
    }
   ],
   "source": [
    "print(\"Train Samples: {}\".format(len(trec_train)))\n",
    "print(\"Test Samples : {}\".format(len(trec_test)))\n",
    "print(\"Labels       : {}\".format({x.label for x in trec_train}))"
   ]
  },
  {
   "cell_type": "code",
   "execution_count": 123,
   "metadata": {},
   "outputs": [
    {
     "name": "stdout",
     "output_type": "stream",
     "text": [
      "Found 8461 unique tokens.\n",
      "Max. sequence lenght:  33\n",
      "Shape of train data tensor: (5381, 33)\n",
      "Shape of train label tensor: (5381, 6)\n"
     ]
    }
   ],
   "source": [
    "# built two lists with sentences and labels\n",
    "questions_train = [x.question for x in trec_train]\n",
    "labels_train = [x.label for x in trec_train]\n",
    "\n",
    "# convert list of tokens/words to indexes\n",
    "tokenizer = Tokenizer()\n",
    "tokenizer.fit_on_texts(questions_train)\n",
    "sequences_train = tokenizer.texts_to_sequences(questions_train)\n",
    "word_index = tokenizer.word_index\n",
    "print('Found %s unique tokens.' % len(word_index))\n",
    "\n",
    "# get the max sentence lenght, needed for padding\n",
    "max_input_lenght = max([len(x) for x in sequences_train])\n",
    "print(\"Max. sequence lenght: \", max_input_lenght)\n",
    "\n",
    "# pad all the sequences of indexes to the 'max_input_lenght'\n",
    "data_train = pad_sequences(sequences_train, maxlen=max_input_lenght, padding='post', truncating='post')\n",
    "\n",
    "# Encode the labels, each must be a vector with dim = num. of possible labels\n",
    "le = LabelEncoder()\n",
    "le.fit(labels_train)\n",
    "labels_encoded_train = le.transform(labels_train)\n",
    "categorical_labels_train = to_categorical(labels_encoded_train, num_classes=None)\n",
    "print('Shape of train data tensor:', data_train.shape)\n",
    "print('Shape of train label tensor:', categorical_labels_train.shape)"
   ]
  },
  {
   "cell_type": "code",
   "execution_count": 124,
   "metadata": {},
   "outputs": [
    {
     "data": {
      "image/png": "[encoded data removed]",
      "text/plain": [
       "<Figure size 1440x360 with 1 Axes>"
      ]
     },
     "metadata": {},
     "output_type": "display_data"
    },
    {
     "name": "stdout",
     "output_type": "stream",
     "text": [
      "max length: 33 / min length: 2 / mean length: 9 / limit length: 33\n"
     ]
    }
   ],
   "source": [
    "%matplotlib inline\n",
    "import numpy as np\n",
    "import matplotlib.pyplot as plt\n",
    "plt.style.use('seaborn')\n",
    "\n",
    "result = [len(x) for x in sequences_train]\n",
    "\n",
    "# Plot histogram\n",
    "plt.figure(figsize=(20,5))\n",
    "plt.title('Document length')\n",
    "plt.hist(result, max_input_lenght, density=False, range=(0,np.max(result)))\n",
    "plt.show()\n",
    "\n",
    "print('max length: %i / min length: %i / mean length: %i / limit length: %i' % (np.max(result), np.min(result),\n",
    "                                                                                np.mean(result), max_input_lenght))"
   ]
  },
  {
   "cell_type": "markdown",
   "metadata": {},
   "source": [
    "## TREC: test data"
   ]
  },
  {
   "cell_type": "code",
   "execution_count": 125,
   "metadata": {
    "scrolled": true
   },
   "outputs": [
    {
     "name": "stdout",
     "output_type": "stream",
     "text": [
      "Shape of test data tensor: (500, 33)\n",
      "Shape of test labels tensor: (500, 6)\n"
     ]
    }
   ],
   "source": [
    "# pre-process test data\n",
    "questions_test = [x.question for x in trec_test]\n",
    "y_test = [x.label for x in trec_test]\n",
    "sequences_test = tokenizer.texts_to_sequences(questions_test)\n",
    "x_test = pad_sequences(sequences_test, maxlen=max_input_lenght)\n",
    "\n",
    "labels_encoded_test = le.transform(y_test)\n",
    "categorical_labels_test = to_categorical(labels_encoded_test, num_classes=None)\n",
    "print('Shape of test data tensor:', x_test.shape)\n",
    "print('Shape of test labels tensor:', categorical_labels_test.shape)"
   ]
  },
  {
   "cell_type": "code",
   "execution_count": 126,
   "metadata": {},
   "outputs": [
    {
     "data": {
      "image/png": "[encoded data removed]",
      "text/plain": [
       "<Figure size 576x360 with 1 Axes>"
      ]
     },
     "metadata": {},
     "output_type": "display_data"
    },
    {
     "name": "stdout",
     "output_type": "stream",
     "text": [
      "max length: 16 / min length: 2 / mean length: 5 / limit length: 33\n"
     ]
    }
   ],
   "source": [
    "%matplotlib inline\n",
    "import numpy as np\n",
    "import matplotlib.pyplot as plt\n",
    "plt.style.use('seaborn')\n",
    "\n",
    "result = [len(x) for x in sequences_test]\n",
    "\n",
    "# Plot histogram\n",
    "plt.figure(figsize=(8,5))\n",
    "plt.title('Document length')\n",
    "plt.hist(result, np.max(result), density=False, range=(0,np.max(result)))\n",
    "plt.show()\n",
    "\n",
    "print('max length: %i / min length: %i / mean length: %i / limit length: %i' % (np.max(result), np.min(result),\n",
    "                                                                                np.mean(result), max_input_lenght))"
   ]
  },
  {
   "cell_type": "code",
   "execution_count": 127,
   "metadata": {},
   "outputs": [],
   "source": [
    "from convnets_utils import *"
   ]
  },
  {
   "cell_type": "markdown",
   "metadata": {},
   "source": [
    "# CNN with random word embeddings"
   ]
  },
  {
   "cell_type": "code",
   "execution_count": 128,
   "metadata": {},
   "outputs": [],
   "source": [
    "model_1 = get_cnn_rand(300, len(word_index)+1, max_input_lenght, 6, loss='binary_crossentropy')"
   ]
  },
  {
   "cell_type": "code",
   "execution_count": 129,
   "metadata": {},
   "outputs": [
    {
     "name": "stderr",
     "output_type": "stream",
     "text": [
      "/Users/dsbatista/virtual_envs/python37/lib/python3.7/site-packages/tensorflow_core/python/framework/indexed_slices.py:424: UserWarning: Converting sparse IndexedSlices to a dense Tensor of unknown shape. This may consume a large amount of memory.\n",
      "  \"Converting sparse IndexedSlices to a dense Tensor of unknown shape. \"\n"
     ]
    },
    {
     "name": "stdout",
     "output_type": "stream",
     "text": [
      "Train on 4304 samples, validate on 1077 samples\n",
      "Epoch 1/10\n",
      "4304/4304 [==============================] - 5s 1ms/step - loss: 0.4609 - accuracy: 0.8223 - val_loss: 0.3856 - val_accuracy: 0.8493\n",
      "Epoch 2/10\n",
      "4304/4304 [==============================] - 5s 1ms/step - loss: 0.3618 - accuracy: 0.8547 - val_loss: 0.3137 - val_accuracy: 0.8699\n",
      "Epoch 3/10\n",
      "4304/4304 [==============================] - 5s 1ms/step - loss: 0.3121 - accuracy: 0.8700 - val_loss: 0.2749 - val_accuracy: 0.8765\n",
      "Epoch 4/10\n",
      "4304/4304 [==============================] - 7s 2ms/step - loss: 0.2726 - accuracy: 0.8866 - val_loss: 0.2381 - val_accuracy: 0.9017\n",
      "Epoch 5/10\n",
      "4304/4304 [==============================] - 6s 2ms/step - loss: 0.2426 - accuracy: 0.9010 - val_loss: 0.2163 - val_accuracy: 0.9073\n",
      "Epoch 6/10\n",
      "4304/4304 [==============================] - 7s 2ms/step - loss: 0.2117 - accuracy: 0.9178 - val_loss: 0.1931 - val_accuracy: 0.9186\n",
      "Epoch 7/10\n",
      "4304/4304 [==============================] - 7s 2ms/step - loss: 0.1849 - accuracy: 0.9288 - val_loss: 0.1745 - val_accuracy: 0.9327\n",
      "Epoch 8/10\n",
      "4304/4304 [==============================] - 6s 1ms/step - loss: 0.1666 - accuracy: 0.9372 - val_loss: 0.1625 - val_accuracy: 0.9335\n",
      "Epoch 9/10\n",
      "4304/4304 [==============================] - 7s 2ms/step - loss: 0.1399 - accuracy: 0.9495 - val_loss: 0.1473 - val_accuracy: 0.9398\n",
      "Epoch 10/10\n",
      "4304/4304 [==============================] - 7s 2ms/step - loss: 0.1182 - accuracy: 0.9569 - val_loss: 0.1364 - val_accuracy: 0.9480\n"
     ]
    }
   ],
   "source": [
    "history = model_1.fit(x=data_train, y=categorical_labels_train, validation_split=0.2, batch_size=50, epochs=10)"
   ]
  },
  {
   "cell_type": "markdown",
   "metadata": {},
   "source": [
    "# Summarize history for accuracy"
   ]
  },
  {
   "cell_type": "code",
   "execution_count": 130,
   "metadata": {},
   "outputs": [
    {
     "data": {
      "image/png": "[encoded data removed]",
      "text/plain": [
       "<Figure size 576x396 with 1 Axes>"
      ]
     },
     "metadata": {},
     "output_type": "display_data"
    }
   ],
   "source": [
    "plt.plot(history.history['accuracy'])\n",
    "plt.plot(history.history['val_accuracy'])\n",
    "plt.title('model accuracy')\n",
    "plt.ylabel('accuracy')\n",
    "plt.xlabel('epoch')\n",
    "plt.legend(['train', 'test'], loc='upper left')\n",
    "plt.show()"
   ]
  },
  {
   "cell_type": "markdown",
   "metadata": {},
   "source": [
    "# Summarize history for loss"
   ]
  },
  {
   "cell_type": "code",
   "execution_count": 131,
   "metadata": {},
   "outputs": [
    {
     "data": {
      "image/png": "[encoded data removed]",
      "text/plain": [
       "<Figure size 576x396 with 1 Axes>"
      ]
     },
     "metadata": {},
     "output_type": "display_data"
    }
   ],
   "source": [
    "plt.plot(history.history['loss'])\n",
    "plt.plot(history.history['val_loss'])\n",
    "plt.title('model loss')\n",
    "plt.ylabel('loss')\n",
    "plt.xlabel('epoch')\n",
    "plt.legend(['train', 'test'], loc='upper left')\n",
    "plt.show()"
   ]
  },
  {
   "cell_type": "code",
   "execution_count": 132,
   "metadata": {},
   "outputs": [
    {
     "data": {
      "text/plain": [
       "0.9179999828338623"
      ]
     },
     "execution_count": 132,
     "metadata": {},
     "output_type": "execute_result"
    }
   ],
   "source": [
    "loss, accuracy = model_1.evaluate(x_test, categorical_labels_test, verbose=0)\n",
    "accuracy"
   ]
  },
  {
   "cell_type": "code",
   "execution_count": 134,
   "metadata": {},
   "outputs": [
    {
     "name": "stdout",
     "output_type": "stream",
     "text": [
      "              precision    recall  f1-score   support\n",
      "\n",
      "        ABBR       1.00      0.22      0.36         9\n",
      "        DESC       0.74      0.22      0.34       138\n",
      "        ENTY       0.55      0.88      0.68        94\n",
      "         HUM       0.84      0.86      0.85        65\n",
      "         LOC       0.91      0.93      0.92        81\n",
      "         NUM       0.61      0.84      0.70       113\n",
      "\n",
      "    accuracy                           0.68       500\n",
      "   macro avg       0.77      0.66      0.64       500\n",
      "weighted avg       0.72      0.68      0.65       500\n",
      "\n"
     ]
    }
   ],
   "source": [
    "raw_predictions = model_1.predict(x_test)\n",
    "class_predictions = [np.argmax(x) for x in raw_predictions]\n",
    "print(classification_report(y_test, le.inverse_transform(class_predictions)))"
   ]
  },
  {
   "cell_type": "markdown",
   "metadata": {},
   "source": [
    "---"
   ]
  },
  {
   "cell_type": "markdown",
   "metadata": {},
   "source": [
    "# CNN with pre-trained static word embeddings"
   ]
  },
  {
   "cell_type": "code",
   "execution_count": 135,
   "metadata": {},
   "outputs": [
    {
     "name": "stdout",
     "output_type": "stream",
     "text": [
      "Loaded 400000 word vectors.\n",
      "Matrix shape: (8462, 100)\n"
     ]
    }
   ],
   "source": [
    "embeddings_index = load_fasttext_embeddings()\n",
    "embeddings_matrix = create_embeddings_matrix(embeddings_index, word_index, 100)\n",
    "embedding_layer_static = get_embeddings_layer(embeddings_matrix, 'embedding_layer_static', max_input_lenght, trainable=False)\n",
    "model_2 = get_cnn_pre_trained_embeddings(embedding_layer_static, max_input_lenght, 6)"
   ]
  },
  {
   "cell_type": "code",
   "execution_count": 136,
   "metadata": {},
   "outputs": [
    {
     "name": "stdout",
     "output_type": "stream",
     "text": [
      "Epoch 1/10\n",
      "5381/5381 [==============================] - 1s 260us/step - loss: 0.4175 - accuracy: 0.8279\n",
      "Epoch 2/10\n",
      "5381/5381 [==============================] - 1s 217us/step - loss: 0.2949 - accuracy: 0.8769\n",
      "Epoch 3/10\n",
      "5381/5381 [==============================] - 1s 224us/step - loss: 0.2378 - accuracy: 0.9030\n",
      "Epoch 4/10\n",
      "5381/5381 [==============================] - 1s 216us/step - loss: 0.2032 - accuracy: 0.9193\n",
      "Epoch 5/10\n",
      "5381/5381 [==============================] - 1s 257us/step - loss: 0.1762 - accuracy: 0.9308\n",
      "Epoch 6/10\n",
      "5381/5381 [==============================] - 1s 235us/step - loss: 0.1525 - accuracy: 0.9410\n",
      "Epoch 7/10\n",
      "5381/5381 [==============================] - 1s 240us/step - loss: 0.1376 - accuracy: 0.9475\n",
      "Epoch 8/10\n",
      "5381/5381 [==============================] - 2s 292us/step - loss: 0.1195 - accuracy: 0.9567\n",
      "Epoch 9/10\n",
      "5381/5381 [==============================] - 1s 220us/step - loss: 0.1036 - accuracy: 0.9631\n",
      "Epoch 10/10\n",
      "5381/5381 [==============================] - 1s 199us/step - loss: 0.0931 - accuracy: 0.9670\n"
     ]
    }
   ],
   "source": [
    "history = model_2.fit(x=data_train, y=categorical_labels_train, batch_size=50, epochs=10)"
   ]
  },
  {
   "cell_type": "code",
   "execution_count": 137,
   "metadata": {},
   "outputs": [
    {
     "data": {
      "text/plain": [
       "0.8963333368301392"
      ]
     },
     "execution_count": 137,
     "metadata": {},
     "output_type": "execute_result"
    }
   ],
   "source": [
    "loss, accuracy = model_2.evaluate(x_test, categorical_labels_test, verbose=0)\n",
    "accuracy"
   ]
  },
  {
   "cell_type": "code",
   "execution_count": 138,
   "metadata": {},
   "outputs": [
    {
     "name": "stdout",
     "output_type": "stream",
     "text": [
      "              precision    recall  f1-score   support\n",
      "\n",
      "        ABBR       1.00      0.56      0.71         9\n",
      "        DESC       0.57      0.09      0.15       138\n",
      "        ENTY       0.32      0.89      0.47        94\n",
      "         HUM       0.94      0.69      0.80        65\n",
      "         LOC       0.75      0.73      0.74        81\n",
      "         NUM       0.98      0.71      0.82       113\n",
      "\n",
      "    accuracy                           0.57       500\n",
      "   macro avg       0.76      0.61      0.61       500\n",
      "weighted avg       0.70      0.57      0.55       500\n",
      "\n"
     ]
    }
   ],
   "source": [
    "raw_predictions = model_2.predict(x_test)\n",
    "class_predictions = [np.argmax(x) for x in raw_predictions]\n",
    "print(classification_report(y_test, le.inverse_transform(class_predictions)))"
   ]
  },
  {
   "cell_type": "markdown",
   "metadata": {
    "collapsed": true
   },
   "source": [
    "# CNN with pre-trained dynamic word embeddings"
   ]
  },
  {
   "cell_type": "code",
   "execution_count": 139,
   "metadata": {},
   "outputs": [],
   "source": [
    "embedding_layer_dynamic = get_embeddings_layer(embeddings_matrix, 'embedding_layer_dynamic', max_input_lenght, trainable=True)\n",
    "model_3 = get_cnn_pre_trained_embeddings(embedding_layer_dynamic, max_input_lenght, 6)"
   ]
  },
  {
   "cell_type": "code",
   "execution_count": 140,
   "metadata": {},
   "outputs": [
    {
     "name": "stderr",
     "output_type": "stream",
     "text": [
      "/Users/dsbatista/virtual_envs/python37/lib/python3.7/site-packages/tensorflow_core/python/framework/indexed_slices.py:424: UserWarning: Converting sparse IndexedSlices to a dense Tensor of unknown shape. This may consume a large amount of memory.\n",
      "  \"Converting sparse IndexedSlices to a dense Tensor of unknown shape. \"\n"
     ]
    },
    {
     "name": "stdout",
     "output_type": "stream",
     "text": [
      "Epoch 1/10\n",
      "5381/5381 [==============================] - 3s 491us/step - loss: 0.4042 - accuracy: 0.8344\n",
      "Epoch 2/10\n",
      "5381/5381 [==============================] - 2s 434us/step - loss: 0.2641 - accuracy: 0.8916\n",
      "Epoch 3/10\n",
      "5381/5381 [==============================] - 2s 440us/step - loss: 0.2045 - accuracy: 0.9175\n",
      "Epoch 4/10\n",
      "5381/5381 [==============================] - 2s 437us/step - loss: 0.1554 - accuracy: 0.9412\n",
      "Epoch 5/10\n",
      "5381/5381 [==============================] - 3s 551us/step - loss: 0.1220 - accuracy: 0.9552\n",
      "Epoch 6/10\n",
      "5381/5381 [==============================] - 3s 511us/step - loss: 0.0878 - accuracy: 0.9700\n",
      "Epoch 7/10\n",
      "5381/5381 [==============================] - 2s 435us/step - loss: 0.0664 - accuracy: 0.9788\n",
      "Epoch 8/10\n",
      "5381/5381 [==============================] - 3s 467us/step - loss: 0.0493 - accuracy: 0.9846\n",
      "Epoch 9/10\n",
      "5381/5381 [==============================] - 3s 550us/step - loss: 0.0371 - accuracy: 0.9905\n",
      "Epoch 10/10\n",
      "5381/5381 [==============================] - 3s 647us/step - loss: 0.0308 - accuracy: 0.9914\n"
     ]
    }
   ],
   "source": [
    "history = model_3.fit(x=data_train, y=categorical_labels_train, batch_size=50, epochs=10)"
   ]
  },
  {
   "cell_type": "code",
   "execution_count": 141,
   "metadata": {},
   "outputs": [
    {
     "data": {
      "text/plain": [
       "0.9193333387374878"
      ]
     },
     "execution_count": 141,
     "metadata": {},
     "output_type": "execute_result"
    }
   ],
   "source": [
    "loss, accuracy = model_3.evaluate(x_test, categorical_labels_test, verbose=0)\n",
    "accuracy"
   ]
  },
  {
   "cell_type": "code",
   "execution_count": 142,
   "metadata": {},
   "outputs": [
    {
     "name": "stdout",
     "output_type": "stream",
     "text": [
      "              precision    recall  f1-score   support\n",
      "\n",
      "        ABBR       0.75      0.67      0.71         9\n",
      "        DESC       0.76      0.22      0.35       138\n",
      "        ENTY       0.39      0.82      0.52        94\n",
      "         HUM       0.94      0.77      0.85        65\n",
      "         LOC       0.74      0.90      0.82        81\n",
      "         NUM       0.96      0.85      0.90       113\n",
      "\n",
      "    accuracy                           0.67       500\n",
      "   macro avg       0.76      0.71      0.69       500\n",
      "weighted avg       0.75      0.67      0.65       500\n",
      "\n"
     ]
    }
   ],
   "source": [
    "raw_predictions = model_3.predict(x_test)\n",
    "class_predictions = [np.argmax(x) for x in raw_predictions]\n",
    "print(classification_report(y_test, le.inverse_transform(class_predictions)))"
   ]
  },
  {
   "cell_type": "markdown",
   "metadata": {
    "collapsed": true
   },
   "source": [
    "# CNN multichanell with pre-trained dynamic and static word embeddings"
   ]
  },
  {
   "cell_type": "code",
   "execution_count": 143,
   "metadata": {},
   "outputs": [],
   "source": [
    "model_4 = get_cnn_multichannel(embedding_layer_static, embedding_layer_dynamic, max_input_lenght, 6)"
   ]
  },
  {
   "cell_type": "code",
   "execution_count": 144,
   "metadata": {},
   "outputs": [
    {
     "name": "stderr",
     "output_type": "stream",
     "text": [
      "/Users/dsbatista/virtual_envs/python37/lib/python3.7/site-packages/tensorflow_core/python/framework/indexed_slices.py:424: UserWarning: Converting sparse IndexedSlices to a dense Tensor of unknown shape. This may consume a large amount of memory.\n",
      "  \"Converting sparse IndexedSlices to a dense Tensor of unknown shape. \"\n"
     ]
    },
    {
     "name": "stdout",
     "output_type": "stream",
     "text": [
      "Epoch 1/10\n",
      "5381/5381 [==============================] - 5s 849us/step - loss: 0.3729 - accuracy: 0.8503\n",
      "Epoch 2/10\n",
      "5381/5381 [==============================] - 5s 891us/step - loss: 0.1572 - accuracy: 0.9410\n",
      "Epoch 3/10\n",
      "5381/5381 [==============================] - 5s 893us/step - loss: 0.0900 - accuracy: 0.9702\n",
      "Epoch 4/10\n",
      "5381/5381 [==============================] - 5s 856us/step - loss: 0.0549 - accuracy: 0.9828\n",
      "Epoch 5/10\n",
      "5381/5381 [==============================] - 4s 833us/step - loss: 0.0345 - accuracy: 0.9902\n",
      "Epoch 6/10\n",
      "5381/5381 [==============================] - 4s 768us/step - loss: 0.0211 - accuracy: 0.9950\n",
      "Epoch 7/10\n",
      "5381/5381 [==============================] - 4s 807us/step - loss: 0.0158 - accuracy: 0.9967\n",
      "Epoch 8/10\n",
      "5381/5381 [==============================] - 4s 702us/step - loss: 0.0119 - accuracy: 0.9972\n",
      "Epoch 9/10\n",
      "5381/5381 [==============================] - 4s 690us/step - loss: 0.0088 - accuracy: 0.9983\n",
      "Epoch 10/10\n",
      "5381/5381 [==============================] - 4s 760us/step - loss: 0.0059 - accuracy: 0.9991\n"
     ]
    }
   ],
   "source": [
    "history = model_4.fit(x=[data_train, data_train], y=categorical_labels_train, batch_size=50, epochs=10)"
   ]
  },
  {
   "cell_type": "code",
   "execution_count": 145,
   "metadata": {},
   "outputs": [
    {
     "data": {
      "text/plain": [
       "0.921333372592926"
      ]
     },
     "execution_count": 145,
     "metadata": {},
     "output_type": "execute_result"
    }
   ],
   "source": [
    "loss, accuracy = model_4.evaluate(x=[x_test,x_test], y=categorical_labels_test, verbose=0)\n",
    "accuracy"
   ]
  },
  {
   "cell_type": "code",
   "execution_count": 146,
   "metadata": {},
   "outputs": [
    {
     "name": "stdout",
     "output_type": "stream",
     "text": [
      "              precision    recall  f1-score   support\n",
      "\n",
      "        ABBR       0.88      0.78      0.82         9\n",
      "        DESC       0.64      0.26      0.37       138\n",
      "        ENTY       0.38      0.79      0.51        94\n",
      "         HUM       0.84      0.83      0.84        65\n",
      "         LOC       0.87      0.89      0.88        81\n",
      "         NUM       1.00      0.81      0.90       113\n",
      "\n",
      "    accuracy                           0.67       500\n",
      "   macro avg       0.77      0.73      0.72       500\n",
      "weighted avg       0.74      0.67      0.67       500\n",
      "\n"
     ]
    }
   ],
   "source": [
    "raw_predictions = model_4.predict([x_test, x_test])\n",
    "class_predictions = [np.argmax(x) for x in raw_predictions]\n",
    "print(classification_report(y_test, le.inverse_transform(class_predictions)))"
   ]
  }
 ],
 "metadata": {
  "kernelspec": {
   "display_name": "Python 3",
   "language": "python",
   "name": "python3"
  },
  "language_info": {
   "codemirror_mode": {
    "name": "ipython",
    "version": 3
   },
   "file_extension": ".py",
   "mimetype": "text/x-python",
   "name": "python",
   "nbconvert_exporter": "python",
   "pygments_lexer": "ipython3",
   "version": "3.7.5"
  }
 },
 "nbformat": 4,
 "nbformat_minor": 2
}
