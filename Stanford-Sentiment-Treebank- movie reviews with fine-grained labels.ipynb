{
 "cells": [
  {
   "cell_type": "code",
   "execution_count": 2,
   "metadata": {},
   "outputs": [],
   "source": [
    "import os\n",
    "import random\n",
    "import numpy as np\n",
    "\n",
    "from collections import namedtuple\n",
    "\n",
    "from sklearn.preprocessing import LabelEncoder\n",
    "\n",
    "from keras.preprocessing.text import Tokenizer\n",
    "from keras.preprocessing.sequence import pad_sequences\n",
    "from keras.utils import to_categorical"
   ]
  },
  {
   "cell_type": "markdown",
   "metadata": {},
   "source": [
    "# Stanford Sentiment Treebank - movie reviews with fine-grained labels"
   ]
  },
  {
   "cell_type": "code",
   "execution_count": 3,
   "metadata": {},
   "outputs": [],
   "source": [
    "# Stanford Sentiment Treebank - movie reviews with fine-grained labels\n",
    "# https://nlp.stanford.edu/sentiment/\n",
    "\n",
    "ST_sentence = namedtuple(\"Stanford_Sentiment\", \"id sentence\")\n",
    "ST_score = namedtuple(\"Stanford_Sentiment\", \"id score\")\n",
    "\n",
    "sentences = dict()\n",
    "scores = dict()\n",
    "train = []\n",
    "dev = []\n",
    "test = []\n",
    "\n",
    "for filename in ['datasetSentences.txt','datasetSplit.txt', 'sentiment_labels.txt']:\n",
    "    with open(\"ST/\"+filename,'r') as f_input:\n",
    "        for line in f_input:\n",
    "            \n",
    "            # skip headers\n",
    "            if line.startswith(\"sentence_index\") or line.startswith('phrase id'):\n",
    "                continue\n",
    "            \n",
    "            # load sentences\n",
    "            if filename=='datasetSentences.txt':                                \n",
    "                sent_id, sentence = line.split('\\t', 1)\n",
    "                sentences[sent_id] = sentence.strip()\n",
    "            \n",
    "            # load splits\n",
    "            if filename=='datasetSplit.txt':\n",
    "                sent_id, split = line.split(',', 1)\n",
    "                split = int(split.strip())\n",
    "                if split == 1:                    \n",
    "                    train.append(sent_id)\n",
    "                if split == 2:                                        \n",
    "                    test.append(sent_id)\n",
    "                if split == 3:\n",
    "                    dev.append(sent_id)\n",
    "            \n",
    "            # sentences_id        \n",
    "            if filename=='sentiment_labels.txt':                    \n",
    "                sent_id, sent_score = line.split('|', 1)\n",
    "                #sent_score = float(sent_score.strip())\n",
    "                sample = ST_score(sent_id, float(sent_score.strip()))\n",
    "                scores[sent_id] = sent_score.strip()"
   ]
  },
  {
   "cell_type": "markdown",
   "metadata": {
    "collapsed": true
   },
   "source": [
    "# Samples and Classes/Labels"
   ]
  },
  {
   "cell_type": "code",
   "execution_count": 4,
   "metadata": {},
   "outputs": [
    {
     "name": "stdout",
     "output_type": "stream",
     "text": [
      "Total Nr. Samples: 11855\n",
      "Total Nr. Scores : 239232\n",
      "\n",
      "Train  : 8544\n",
      "Dev    : 1101\n",
      "Test   : 2210\n"
     ]
    }
   ],
   "source": [
    "print(\"Total Nr. Samples: {}\".format(len(sentences)))\n",
    "print(\"Total Nr. Scores : {}\".format(len(scores)))\n",
    "print()\n",
    "print(\"Train  : {}\".format(len(train)))\n",
    "print(\"Dev    : {}\".format(len(dev)))\n",
    "print(\"Test   : {}\".format(len(test)))"
   ]
  },
  {
   "cell_type": "code",
   "execution_count": 5,
   "metadata": {},
   "outputs": [],
   "source": [
    "# built two lists with sentences and labels\n",
    "x_train_data = [sentences[x] for x in train]\n",
    "y_train_data = [scores[x] for x in train]\n",
    "\n",
    "x_dev_data = [sentences[x] for x in dev]\n",
    "y_dev_data = [scores[x] for x in dev]\n",
    "\n",
    "x_test_data = [sentences[x] for x in test]\n",
    "y_test_data = [scores[x] for x in test]"
   ]
  },
  {
   "cell_type": "code",
   "execution_count": 6,
   "metadata": {},
   "outputs": [
    {
     "name": "stdout",
     "output_type": "stream",
     "text": [
      "Found 15337 unique tokens.\n"
     ]
    }
   ],
   "source": [
    "# convert list of tokens/words to indexes\n",
    "tokenizer = Tokenizer()\n",
    "tokenizer.fit_on_texts(x_train_data)\n",
    "sequences_train = tokenizer.texts_to_sequences(x_train_data)\n",
    "word_index = tokenizer.word_index\n",
    "print('Found %s unique tokens.' % len(word_index))"
   ]
  },
  {
   "cell_type": "code",
   "execution_count": 7,
   "metadata": {},
   "outputs": [
    {
     "data": {
      "text/plain": [
       "49"
      ]
     },
     "execution_count": 7,
     "metadata": {},
     "output_type": "execute_result"
    }
   ],
   "source": [
    "# get the max sentence lenght, needed for padding\n",
    "max_input_lenght = max([len(x) for x in sequences_train])\n",
    "max_input_lenght"
   ]
  },
  {
   "cell_type": "code",
   "execution_count": 8,
   "metadata": {},
   "outputs": [],
   "source": [
    "# pad all the sequences of indexes to the 'max_input_lenght'\n",
    "x_train_data_padded = pad_sequences(sequences_train, maxlen=max_input_lenght, padding='post', truncating='post')\n",
    "x_dev_data_padded = pad_sequences(tokenizer.texts_to_sequences(x_dev_data), maxlen=max_input_lenght, padding='post', truncating='post')\n",
    "x_test_data_padded = pad_sequences(tokenizer.texts_to_sequences(x_test_data), maxlen=max_input_lenght, padding='post', truncating='post')"
   ]
  },
  {
   "cell_type": "markdown",
   "metadata": {},
   "source": [
    "## Transform scores to classes as re-labeled by Socher et al. (2013)\n",
    "- 0 - 2.0    : very negative\n",
    "- 2.0 - 4.0  : negative\n",
    "- 4.0 - 6.0  : neutral\n",
    "- 6.0 - 8.0  : negative\n",
    "- 8.0 - 10.0 : very positive"
   ]
  },
  {
   "cell_type": "code",
   "execution_count": 9,
   "metadata": {},
   "outputs": [],
   "source": [
    "def convert_to_categories(y_data):\n",
    "    y_categories = []\n",
    "    for score in y_data:\n",
    "        if 0.0<=float(score)<0.2:\n",
    "            y_categories.append('very_negative')\n",
    "        elif 0.2<=float(score)<0.4:\n",
    "            y_categories.append('negative')\n",
    "        elif 0.4<=float(score)<0.6:\n",
    "            y_categories.append('neutral')\n",
    "        elif 0.6<=float(score)<0.8:\n",
    "            y_categories.append('positive')\n",
    "        elif 0.8<=float(score)<=1.0:\n",
    "            y_categories.append('very positive')\n",
    "            \n",
    "    return y_categories"
   ]
  },
  {
   "cell_type": "code",
   "execution_count": 10,
   "metadata": {},
   "outputs": [],
   "source": [
    "# Convert from scores to categories\n",
    "y_train_data_categ = convert_to_categories(y_train_data)\n",
    "y_dev_data_categ = convert_to_categories(y_dev_data)\n",
    "y_test_data_categ = convert_to_categories(y_test_data)\n",
    "\n",
    "# Encode the labels, each must be a vector with dim = num. of possible labels\n",
    "le = LabelEncoder()\n",
    "le.fit(y_train_data_categ)\n",
    "\n",
    "labels_encoded_train = le.transform(y_train_data_categ)\n",
    "labels_encoded_dev = le.transform(y_dev_data_categ)\n",
    "labels_encoded_test = le.transform(y_test_data_categ)\n",
    "\n",
    "categorical_labels_train = to_categorical(labels_encoded_train, num_classes=None)\n",
    "categorical_labels_dev = to_categorical(labels_encoded_dev, num_classes=None)\n",
    "categorical_labels_test = to_categorical(labels_encoded_test, num_classes=None)"
   ]
  },
  {
   "cell_type": "code",
   "execution_count": 11,
   "metadata": {},
   "outputs": [
    {
     "name": "stdout",
     "output_type": "stream",
     "text": [
      "(8544, 49)\n",
      "(8544, 5)\n"
     ]
    }
   ],
   "source": [
    "print(x_train_data_padded.shape)\n",
    "print(categorical_labels_train.shape)"
   ]
  },
  {
   "cell_type": "code",
   "execution_count": 12,
   "metadata": {},
   "outputs": [
    {
     "name": "stdout",
     "output_type": "stream",
     "text": [
      "(1101, 49)\n",
      "(1101, 5)\n"
     ]
    }
   ],
   "source": [
    "print(x_dev_data_padded.shape)\n",
    "print(categorical_labels_dev.shape)"
   ]
  },
  {
   "cell_type": "code",
   "execution_count": 13,
   "metadata": {
    "scrolled": true
   },
   "outputs": [
    {
     "name": "stdout",
     "output_type": "stream",
     "text": [
      "(2210, 49)\n",
      "(2210, 5)\n"
     ]
    }
   ],
   "source": [
    "print(x_test_data_padded.shape)\n",
    "print(categorical_labels_test.shape)"
   ]
  },
  {
   "cell_type": "code",
   "execution_count": 14,
   "metadata": {},
   "outputs": [],
   "source": [
    "from convnets_utils import *"
   ]
  },
  {
   "cell_type": "markdown",
   "metadata": {},
   "source": [
    "# CNN with random word embeddings"
   ]
  },
  {
   "cell_type": "code",
   "execution_count": 15,
   "metadata": {},
   "outputs": [],
   "source": [
    "model_1 = get_cnn_rand(200, len(word_index)+1, max_input_lenght, 5, loss='categorical_crossentropy')"
   ]
  },
  {
   "cell_type": "code",
   "execution_count": null,
   "metadata": {},
   "outputs": [
    {
     "name": "stdout",
     "output_type": "stream",
     "text": [
      "Train on 8544 samples, validate on 1101 samples\n",
      "Epoch 1/15\n",
      "2400/8544 [=======>......................] - ETA: 7s - loss: 0.3656 - accuracy: 0.8487"
     ]
    }
   ],
   "source": [
    "history = model_1.fit(x=x_train_data_padded, y=categorical_labels_train,\n",
    "                      validation_data=(x_dev_data_padded, categorical_labels_dev),\n",
    "                      batch_size=50, epochs=15)"
   ]
  },
  {
   "cell_type": "code",
   "execution_count": null,
   "metadata": {},
   "outputs": [],
   "source": [
    "loss, accuracy = model_1.evaluate(x_test_data_padded, categorical_labels_test, verbose=0)\n",
    "accuracy"
   ]
  },
  {
   "cell_type": "code",
   "execution_count": null,
   "metadata": {},
   "outputs": [],
   "source": [
    "raw_predictions = model_1.predict(x_test_data_padded)\n",
    "class_predictions = [np.argmax(x) for x in raw_predictions]\n",
    "print(classification_report(y_test_data_categ, le.inverse_transform(class_predictions)))"
   ]
  },
  {
   "cell_type": "markdown",
   "metadata": {},
   "source": [
    "# CNN with pre-trained static word embeddings"
   ]
  },
  {
   "cell_type": "code",
   "execution_count": 35,
   "metadata": {},
   "outputs": [
    {
     "name": "stdout",
     "output_type": "stream",
     "text": [
      "Loaded 400000 word vectors.\n",
      "Matrix shape: (15338, 100)\n"
     ]
    }
   ],
   "source": [
    "embeddings_index = load_fasttext_embeddings()\n",
    "embeddings_matrix = create_embeddings_matrix(embeddings_index, word_index, 100)\n",
    "\n",
    "embedding_layer_static = get_embeddings_layer(embeddings_matrix, \n",
    "                                              'embedding_layer_static', \n",
    "                                              max_input_lenght, \n",
    "                                              trainable=False)\n",
    "\n",
    "model_2 = get_cnn_pre_trained_embeddings(embedding_layer_static, \n",
    "                                         max_input_lenght, \n",
    "                                         5, \n",
    "                                         loss='categorical_crossentropy')"
   ]
  },
  {
   "cell_type": "code",
   "execution_count": 36,
   "metadata": {
    "scrolled": false
   },
   "outputs": [
    {
     "name": "stdout",
     "output_type": "stream",
     "text": [
      "Train on 8544 samples, validate on 1101 samples\n",
      "Epoch 1/5\n",
      "8544/8544 [==============================] - 3s 375us/step - loss: 1.3558 - categorical_accuracy: 0.4968 - val_loss: 1.4822 - val_categorical_accuracy: 0.4496\n",
      "Epoch 2/5\n",
      "8544/8544 [==============================] - 3s 341us/step - loss: 1.1456 - categorical_accuracy: 0.5536 - val_loss: 1.6190 - val_categorical_accuracy: 0.4569\n",
      "Epoch 3/5\n",
      "8544/8544 [==============================] - 3s 345us/step - loss: 0.9597 - categorical_accuracy: 0.6298 - val_loss: 1.5589 - val_categorical_accuracy: 0.4278\n",
      "Epoch 4/5\n",
      "8544/8544 [==============================] - 3s 367us/step - loss: 0.7273 - categorical_accuracy: 0.7478 - val_loss: 1.6465 - val_categorical_accuracy: 0.4151\n",
      "Epoch 5/5\n",
      "8544/8544 [==============================] - 3s 361us/step - loss: 0.4931 - categorical_accuracy: 0.8529 - val_loss: 1.9307 - val_categorical_accuracy: 0.4360\n"
     ]
    }
   ],
   "source": [
    "history = model_2.fit(x=x_train_data_padded, \n",
    "                      validation_data=(x_dev_data_padded, categorical_labels_dev),\n",
    "                      y=categorical_labels_train, batch_size=16, epochs=5)"
   ]
  },
  {
   "cell_type": "code",
   "execution_count": 37,
   "metadata": {},
   "outputs": [
    {
     "data": {
      "text/plain": [
       "0.4941176474094391"
      ]
     },
     "execution_count": 37,
     "metadata": {},
     "output_type": "execute_result"
    }
   ],
   "source": [
    "loss, accuracy = model_2.evaluate(x_test_data_padded, categorical_labels_test, verbose=0)\n",
    "accuracy"
   ]
  },
  {
   "cell_type": "code",
   "execution_count": 38,
   "metadata": {},
   "outputs": [
    {
     "name": "stdout",
     "output_type": "stream",
     "text": [
      "               precision    recall  f1-score   support\n",
      "\n",
      "     negative       0.23      0.02      0.03       405\n",
      "      neutral       0.52      0.92      0.66      1155\n",
      "     positive       0.20      0.05      0.08       424\n",
      "very positive       0.07      0.01      0.02       112\n",
      "very_negative       0.10      0.02      0.03       114\n",
      "\n",
      "     accuracy                           0.49      2210\n",
      "    macro avg       0.22      0.20      0.16      2210\n",
      " weighted avg       0.36      0.49      0.37      2210\n",
      "\n"
     ]
    }
   ],
   "source": [
    "raw_predictions = model_2.predict(x_test_data_padded)\n",
    "class_predictions = [np.argmax(x) for x in raw_predictions]\n",
    "print(classification_report(y_test_data_categ, le.inverse_transform(class_predictions)))"
   ]
  },
  {
   "cell_type": "markdown",
   "metadata": {},
   "source": [
    "# CNN with pre-trained dynamic word embeddings"
   ]
  },
  {
   "cell_type": "code",
   "execution_count": 34,
   "metadata": {},
   "outputs": [],
   "source": [
    "embedding_layer_dynamic = get_embeddings_layer(embeddings_matrix, 'embedding_layer_dynamic', \n",
    "                                               max_input_lenght, trainable=True)\n",
    "\n",
    "model_3 = get_cnn_pre_trained_embeddings(embedding_layer_dynamic, max_input_lenght, 5, \n",
    "                                         loss='categorical_crossentropy')"
   ]
  },
  {
   "cell_type": "code",
   "execution_count": 35,
   "metadata": {
    "scrolled": true
   },
   "outputs": [
    {
     "name": "stderr",
     "output_type": "stream",
     "text": [
      "/Users/dsbatista/virtual_envs/python37/lib/python3.7/site-packages/tensorflow_core/python/framework/indexed_slices.py:424: UserWarning: Converting sparse IndexedSlices to a dense Tensor of unknown shape. This may consume a large amount of memory.\n",
      "  \"Converting sparse IndexedSlices to a dense Tensor of unknown shape. \"\n"
     ]
    },
    {
     "name": "stdout",
     "output_type": "stream",
     "text": [
      "Epoch 1/5\n",
      "8544/8544 [==============================] - 6s 694us/step - loss: 1.3034 - categorical_accuracy: 0.5322\n",
      "Epoch 2/5\n",
      "8544/8544 [==============================] - 5s 628us/step - loss: 1.1558 - categorical_accuracy: 0.5363\n",
      "Epoch 3/5\n",
      "8544/8544 [==============================] - 6s 662us/step - loss: 0.9958 - categorical_accuracy: 0.5562\n",
      "Epoch 4/5\n",
      "8544/8544 [==============================] - 6s 697us/step - loss: 0.6755 - categorical_accuracy: 0.7687\n",
      "Epoch 5/5\n",
      "8544/8544 [==============================] - 6s 717us/step - loss: 0.3510 - categorical_accuracy: 0.9210\n"
     ]
    }
   ],
   "source": [
    "history = model_3.fit(x=x_train_data_padded, y=categorical_labels_train, batch_size=50, epochs=5)"
   ]
  },
  {
   "cell_type": "code",
   "execution_count": 36,
   "metadata": {},
   "outputs": [
    {
     "data": {
      "text/plain": [
       "0.483257919549942"
      ]
     },
     "execution_count": 36,
     "metadata": {},
     "output_type": "execute_result"
    }
   ],
   "source": [
    "loss, accuracy = model_3.evaluate(x_test_data_padded, categorical_labels_test, verbose=0)\n",
    "accuracy"
   ]
  },
  {
   "cell_type": "code",
   "execution_count": 37,
   "metadata": {},
   "outputs": [
    {
     "name": "stdout",
     "output_type": "stream",
     "text": [
      "               precision    recall  f1-score   support\n",
      "\n",
      "     negative       0.20      0.07      0.10       405\n",
      "      neutral       0.52      0.88      0.65      1155\n",
      "     positive       0.23      0.06      0.10       424\n",
      "very positive       0.00      0.00      0.00       112\n",
      "very_negative       0.00      0.00      0.00       114\n",
      "\n",
      "     accuracy                           0.48      2210\n",
      "    macro avg       0.19      0.20      0.17      2210\n",
      " weighted avg       0.35      0.48      0.38      2210\n",
      "\n"
     ]
    }
   ],
   "source": [
    "raw_predictions = model_3.predict(x_test_data_padded)\n",
    "class_predictions = [np.argmax(x) for x in raw_predictions]\n",
    "print(classification_report(y_test_data_categ, le.inverse_transform(class_predictions)))"
   ]
  },
  {
   "cell_type": "markdown",
   "metadata": {},
   "source": [
    "# CNN multichanell with pre-trained dynamic and static word embeddings"
   ]
  },
  {
   "cell_type": "code",
   "execution_count": 21,
   "metadata": {},
   "outputs": [
    {
     "ename": "NameError",
     "evalue": "name 'embedding_layer_static' is not defined",
     "output_type": "error",
     "traceback": [
      "\u001b[0;31m---------------------------------------------------------------------------\u001b[0m",
      "\u001b[0;31mNameError\u001b[0m                                 Traceback (most recent call last)",
      "\u001b[0;32m<ipython-input-21-49fa8bb98761>\u001b[0m in \u001b[0;36m<module>\u001b[0;34m\u001b[0m\n\u001b[0;32m----> 1\u001b[0;31m model_4 = get_cnn_multichannel(embedding_layer_static, embedding_layer_dynamic, max_input_lenght, 5,\n\u001b[0m\u001b[1;32m      2\u001b[0m                                loss='categorical_crossentropy')\n",
      "\u001b[0;31mNameError\u001b[0m: name 'embedding_layer_static' is not defined"
     ]
    }
   ],
   "source": [
    "model_4 = get_cnn_multichannel(embedding_layer_static, embedding_layer_dynamic, max_input_lenght, 5,\n",
    "                               loss='categorical_crossentropy')"
   ]
  },
  {
   "cell_type": "code",
   "execution_count": 57,
   "metadata": {},
   "outputs": [
    {
     "name": "stdout",
     "output_type": "stream",
     "text": [
      "Train on 5724 samples, validate on 2820 samples\n",
      "Epoch 1/5\n",
      "5724/5724 [==============================] - 7s 1ms/step - loss: 0.4054 - acc: 0.8350 - val_loss: 0.3398 - val_acc: 0.8639\n",
      "Epoch 2/5\n",
      "5724/5724 [==============================] - 6s 1ms/step - loss: 0.2479 - acc: 0.9127 - val_loss: 0.2642 - val_acc: 0.8994\n",
      "Epoch 3/5\n",
      "5724/5724 [==============================] - 7s 1ms/step - loss: 0.1488 - acc: 0.9530 - val_loss: 0.2619 - val_acc: 0.8965\n",
      "Epoch 4/5\n",
      "5724/5724 [==============================] - 7s 1ms/step - loss: 0.0882 - acc: 0.9761 - val_loss: 0.2501 - val_acc: 0.8996\n",
      "Epoch 5/5\n",
      "5724/5724 [==============================] - 7s 1ms/step - loss: 0.0514 - acc: 0.9902 - val_loss: 0.2610 - val_acc: 0.8979\n"
     ]
    }
   ],
   "source": [
    "history = model_4.fit(x=[x_train_data_padded,x_train_data_padded], y=categorical_labels_train, \n",
    "                      batch_size=50, \n",
    "                      epochs=5,\n",
    "                      validation_split=0.33)"
   ]
  },
  {
   "cell_type": "code",
   "execution_count": 58,
   "metadata": {},
   "outputs": [
    {
     "data": {
      "text/plain": [
       "0.7857013592353234"
      ]
     },
     "execution_count": 58,
     "metadata": {},
     "output_type": "execute_result"
    }
   ],
   "source": [
    "loss, accuracy = model_4.evaluate(x=[x_test_data_padded,x_test_data_padded], y=categorical_labels_test, verbose=0)\n",
    "accuracy"
   ]
  },
  {
   "cell_type": "code",
   "execution_count": 59,
   "metadata": {},
   "outputs": [
    {
     "name": "stdout",
     "output_type": "stream",
     "text": [
      "               precision    recall  f1-score   support\n",
      "\n",
      "     negative       0.17      0.13      0.15       405\n",
      "      neutral       0.52      0.71      0.60      1155\n",
      "     positive       0.21      0.14      0.17       424\n",
      "very positive       0.00      0.00      0.00       112\n",
      "very_negative       0.00      0.00      0.00       114\n",
      "\n",
      "    micro avg       0.42      0.42      0.42      2210\n",
      "    macro avg       0.18      0.20      0.18      2210\n",
      " weighted avg       0.34      0.42      0.37      2210\n",
      "\n"
     ]
    }
   ],
   "source": [
    "raw_predictions = model_4.predict(x=[x_test_data_padded,x_test_data_padded])\n",
    "class_predictions = [np.argmax(x) for x in raw_predictions]\n",
    "print(classification_report(y_test_data_categ, le.inverse_transform(class_predictions)))"
   ]
  }
 ],
 "metadata": {
  "kernelspec": {
   "display_name": "Python 3",
   "language": "python",
   "name": "python3"
  },
  "language_info": {
   "codemirror_mode": {
    "name": "ipython",
    "version": 3
   },
   "file_extension": ".py",
   "mimetype": "text/x-python",
   "name": "python",
   "nbconvert_exporter": "python",
   "pygments_lexer": "ipython3",
   "version": "3.7.5"
  }
 },
 "nbformat": 4,
 "nbformat_minor": 2
}
